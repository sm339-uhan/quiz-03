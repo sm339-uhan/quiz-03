{
 "cells": [
  {
   "cell_type": "markdown",
   "id": "20542d24-4dd5-43b7-9f4e-938c51a70d81",
   "metadata": {},
   "source": [
    "**SM339 &#x25aa; Applied Statistics &#x25aa; Spring 2023 &#x25aa; Uhan**"
   ]
  },
  {
   "cell_type": "markdown",
   "id": "3a72792a-aec3-4065-9d56-88ed28df2598",
   "metadata": {},
   "source": [
    "# Quiz 3 &mdash; 2/1/2023"
   ]
  },
  {
   "cell_type": "markdown",
   "id": "206840bf-d41c-4ce1-a0de-4051888970d5",
   "metadata": {},
   "source": [
    "## Instructions\n",
    "\n",
    "This take-home quiz is due on __Wednesday, February 1 at 23:59__.\n",
    "\n",
    "You may use your own course materials, as well as any materials directly linked from the course website. __No collaboration allowed.__\n",
    "\n",
    "Type your answers __directly in this Jupyter notebook__, and submit this notebook (just the `ipynb` file) using the submission form on the [course website](https://www.usna.edu/users/math/uhan/sm339/)."
   ]
  },
  {
   "cell_type": "markdown",
   "id": "a2814ee5-80a5-44a0-afe4-f2cbc05e75e1",
   "metadata": {},
   "source": [
    "## Problem 1"
   ]
  },
  {
   "cell_type": "markdown",
   "id": "56b5cb56-b60c-463d-aae6-28ad32d51675",
   "metadata": {},
   "source": [
    "The data frame `GrinnellHouses` in the `Stat2Data` package contains data from 929 house sales in Grinnell, Iowa, between 2005 and into 2015.\n",
    "\n",
    "For this quiz, we want to investigate the relationship between the list price of the home (what the seller asks for the home) and the final sale price. One would expect there to be a strong relationship. In most markets, including Grinnell during this period, the list price almost always exceeds the sale price."
   ]
  },
  {
   "cell_type": "markdown",
   "id": "b5abfffe-9e76-42d0-bb6b-b10fb32ac45e",
   "metadata": {},
   "source": [
    "(a) Load the data frame `GrinnellHouses` from the `Stat2Data` package. Display the first few rows."
   ]
  },
  {
   "cell_type": "code",
   "execution_count": null,
   "id": "38dcd8c6-3981-4f10-ae73-bfaaf29b30ff",
   "metadata": {},
   "outputs": [],
   "source": []
  },
  {
   "cell_type": "markdown",
   "id": "84ea765a-b1d1-42a8-8be4-fe069d8ce2e0",
   "metadata": {},
   "source": [
    "(b) Make a scatterplot with `ListPrice` on the horizontal axis and `SalePrice` on the vertical axis."
   ]
  },
  {
   "cell_type": "code",
   "execution_count": null,
   "id": "43552b38-98b2-4283-8898-aa89b8863c92",
   "metadata": {},
   "outputs": [],
   "source": []
  },
  {
   "cell_type": "markdown",
   "id": "fd5eb40f-15b2-4049-bea8-42634658e393",
   "metadata": {},
   "source": [
    "(c) Briefly comment on any patterns you observe in your scatterplot from part (b)."
   ]
  },
  {
   "cell_type": "code",
   "execution_count": null,
   "id": "ff87aae6-85ab-4072-a022-9350e7e972f0",
   "metadata": {},
   "outputs": [],
   "source": []
  },
  {
   "cell_type": "markdown",
   "id": "ff475d22-766a-4aae-b92e-49b1965260df",
   "metadata": {},
   "source": [
    "(d) Use R to find the least squares regression line for predicting the sale price of a home based on the list price of that home. Your output should include:\n",
    "\n",
    "- a table that shows the estimated parameters of the least squares regression line;\n",
    "- a scatterplot of the two variables with the least squares regression line on the same axes."
   ]
  },
  {
   "cell_type": "code",
   "execution_count": null,
   "id": "5950fc02-b982-4528-81f6-238cee28bb7c",
   "metadata": {},
   "outputs": [],
   "source": []
  },
  {
   "cell_type": "markdown",
   "id": "466e7025-1a7c-4e8d-aca5-44d9f9029093",
   "metadata": {},
   "source": [
    "(e) Interpret the value (not just the sign) of the slope of the fitted model in the context of this setting."
   ]
  },
  {
   "cell_type": "markdown",
   "id": "240f29b2-15ea-4ee5-9fbe-2774b855c6f7",
   "metadata": {},
   "source": [
    "*Write your answer here. Double-click to edit.*"
   ]
  },
  {
   "cell_type": "markdown",
   "id": "d9fb33f9-0a4e-49a1-ab2a-4bdf49990607",
   "metadata": {},
   "source": [
    "(f) What sales price would the fitted model predict for a house that has a listing price of \\\\$99,500?\n",
    "Use the code cell below as a calculator to show your work."
   ]
  },
  {
   "cell_type": "code",
   "execution_count": null,
   "id": "6f459cee-feda-4e5e-a69a-99a4b629fdb4",
   "metadata": {},
   "outputs": [],
   "source": []
  },
  {
   "cell_type": "markdown",
   "id": "775814b6-0686-44b4-9f21-4844b3ae88f2",
   "metadata": {},
   "source": [
    "(g) The house at 1317 Prince Street has a listing price of \\\\$99,500 and a sales price of \\\\$95,000. Find the residual for this observation. Use the code cell below as a calculator to show your work."
   ]
  },
  {
   "cell_type": "code",
   "execution_count": null,
   "id": "96bd5f99-5e34-4db3-94ab-407e674ffacb",
   "metadata": {},
   "outputs": [],
   "source": []
  },
  {
   "cell_type": "markdown",
   "id": "729d3032-4f3d-4dde-a0db-5f278d2b3699",
   "metadata": {},
   "source": [
    "(h) Make a residual vs. fitted values plot."
   ]
  },
  {
   "cell_type": "code",
   "execution_count": null,
   "id": "a92fbe5a-6be5-4eb3-9dad-b06af9c8b19f",
   "metadata": {},
   "outputs": [],
   "source": []
  },
  {
   "cell_type": "markdown",
   "id": "a3fcb87c-2c65-46c9-8167-3aa5bef2cab5",
   "metadata": {},
   "source": [
    "(i) Based on your residual vs. fitted values plot in part (h), does the fitted model satisfy the constant variance condition? Briefly explain. "
   ]
  },
  {
   "cell_type": "markdown",
   "id": "d2dbde60-3720-42d6-8604-a8674e08ea0f",
   "metadata": {},
   "source": [
    "*Write your answer here. Double-click to edit.*"
   ]
  },
  {
   "cell_type": "markdown",
   "id": "4160f75f-aa04-454f-9d59-fd8c9811004b",
   "metadata": {
    "tags": []
   },
   "source": [
    "## Grading rubric\n",
    "    \n",
    "| Problem | Weight |\n",
    "| :-: | -: |\n",
    "| 1a | 0.5 |\n",
    "| 1b | 0.5 |\n",
    "| 1c | 0.5 | \n",
    "| 1d | 1.0 | \n",
    "| 1e | 1.0 | \n",
    "| 1f | 0.5 | \n",
    "| 1g | 0.5 |\n",
    "| 1h | 0.5 | \n",
    "| 1i | 1.0 |\n",
    "| __Max Score__ | __60__ | "
   ]
  }
 ],
 "metadata": {
  "kernelspec": {
   "display_name": "R",
   "language": "R",
   "name": "ir"
  },
  "language_info": {
   "codemirror_mode": "r",
   "file_extension": ".r",
   "mimetype": "text/x-r-source",
   "name": "R",
   "pygments_lexer": "r",
   "version": "4.2.2"
  }
 },
 "nbformat": 4,
 "nbformat_minor": 5
}
